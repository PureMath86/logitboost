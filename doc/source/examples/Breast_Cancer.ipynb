{
 "cells": [
  {
   "cell_type": "markdown",
   "metadata": {},
   "source": [
    "# Breast Cancer Dataset\n",
    "\n",
    "In this notebook we will apply the LogitBoost algorithm to classify cases of breast cancer as benign or malignant."
   ]
  },
  {
   "cell_type": "code",
   "execution_count": 1,
   "metadata": {},
   "outputs": [
    {
     "name": "stderr",
     "output_type": "stream",
     "text": [
      "/Library/Frameworks/Python.framework/Versions/3.7/lib/python3.7/site-packages/sklearn/utils/__init__.py:4: DeprecationWarning: Using or importing the ABCs from 'collections' instead of from 'collections.abc' is deprecated, and in 3.8 it will stop working\n",
      "  from collections import Sequence\n"
     ]
    }
   ],
   "source": [
    "from __future__ import print_function\n",
    "\n",
    "from sklearn.datasets import load_breast_cancer\n",
    "from sklearn.model_selection import train_test_split\n",
    "from sklearn.metrics import accuracy_score, classification_report\n",
    "\n",
    "from logitboost import LogitBoost"
   ]
  },
  {
   "cell_type": "markdown",
   "metadata": {},
   "source": [
    "## Loading the data\n",
    "\n",
    "The breast cancer dataset imported from [scikit-learn](http://scikit-learn.org/stable/modules/generated/sklearn.datasets.load_breast_cancer.html) contains $569$ samples with $30$ real, positive features (including cancer mass attributes like mean radius, mean texture, mean perimeter, et cetera).\n",
    "Of the samples, $212$ are labeled \"malignant\" and $357$ are labeled \"benign\".\n",
    "We load this data into a $569 \\times 30$ feature matrix and a $569 \\times 1$ target vector.\n",
    "Then we randomly shuffle the data and designate two thirds for training and one third for testing."
   ]
  },
  {
   "cell_type": "code",
   "execution_count": 2,
   "metadata": {},
   "outputs": [],
   "source": [
    "data = load_breast_cancer()\n",
    "X = data.data\n",
    "y = data.target_names[data.target]\n",
    "\n",
    "# Shuffle data and split it into training/testing samples\n",
    "X_train, X_test, y_train, y_test = train_test_split(X, y, test_size=(1. / 3),\n",
    "                                                    shuffle=True, stratify=y,\n",
    "                                                    random_state=0)"
   ]
  },
  {
   "cell_type": "markdown",
   "metadata": {},
   "source": [
    "## Fitting the LogitBoost model\n",
    "\n",
    "Next, we initialize a LogitBoost classifier and fit it to the training data.\n",
    "By default, LogitBoost uses decision stumps as its base estimator."
   ]
  },
  {
   "cell_type": "code",
   "execution_count": 3,
   "metadata": {},
   "outputs": [
    {
     "data": {
      "text/plain": [
       "LogitBoost(base_estimator=None, bootstrap=False, learning_rate=1.0,\n",
       "      n_estimators=50, random_state=0, weight_trim_quantile=0.05,\n",
       "      z_max=4.0)"
      ]
     },
     "execution_count": 3,
     "metadata": {},
     "output_type": "execute_result"
    }
   ],
   "source": [
    "lboost = LogitBoost(random_state=0)\n",
    "lboost.fit(X_train, y_train)"
   ]
  },
  {
   "cell_type": "markdown",
   "metadata": {},
   "source": [
    "## Prediction accuracy\n",
    "\n",
    "As a first indicator of how well the model predicts the correct labels, we can check its accuracy score (number of correct predictions over the number of total predictions) on the training and test data.\n",
    "If the classifier is good, then the accuracy score should be close to 1."
   ]
  },
  {
   "cell_type": "code",
   "execution_count": 4,
   "metadata": {},
   "outputs": [
    {
     "name": "stdout",
     "output_type": "stream",
     "text": [
      "Training accuracy: 0.9947\n",
      "Testing accuracy:  0.9579\n"
     ]
    }
   ],
   "source": [
    "y_pred_train = lboost.predict(X_train)\n",
    "y_pred_test = lboost.predict(X_test)\n",
    "\n",
    "accuracy_train = accuracy_score(y_train, y_pred_train)\n",
    "accuracy_test = accuracy_score(y_test, y_pred_test)\n",
    "\n",
    "print(\"Training accuracy: %.4f\" % accuracy_train)\n",
    "print(\"Testing accuracy:  %.4f\" % accuracy_test)"
   ]
  },
  {
   "cell_type": "markdown",
   "metadata": {},
   "source": [
    "## Precision and Recall\n",
    "\n",
    "We can also check LogitBoost's precision and recall."
   ]
  },
  {
   "cell_type": "code",
   "execution_count": 5,
   "metadata": {},
   "outputs": [
    {
     "name": "stdout",
     "output_type": "stream",
     "text": [
      "Training\n",
      "             precision    recall  f1-score   support\n",
      "\n",
      "     benign       0.99      1.00      1.00       238\n",
      "  malignant       1.00      0.99      0.99       141\n",
      "\n",
      "avg / total       0.99      0.99      0.99       379\n",
      "\n",
      "Testing\n",
      "             precision    recall  f1-score   support\n",
      "\n",
      "     benign       0.97      0.96      0.97       119\n",
      "  malignant       0.93      0.96      0.94        71\n",
      "\n",
      "avg / total       0.96      0.96      0.96       190\n",
      "\n"
     ]
    }
   ],
   "source": [
    "report_train = classification_report(y_train, y_pred_train)\n",
    "report_test = classification_report(y_test, y_pred_test)\n",
    "print(\"Training\\n%s\" % report_train)\n",
    "print(\"Testing\\n%s\" % report_test)"
   ]
  }
 ],
 "metadata": {
  "kernelspec": {
   "display_name": "Python 3",
   "language": "python",
   "name": "python3"
  },
  "language_info": {
   "codemirror_mode": {
    "name": "ipython",
    "version": 3
   },
   "file_extension": ".py",
   "mimetype": "text/x-python",
   "name": "python",
   "nbconvert_exporter": "python",
   "pygments_lexer": "ipython3",
   "version": "3.7.0"
  }
 },
 "nbformat": 4,
 "nbformat_minor": 1
}
